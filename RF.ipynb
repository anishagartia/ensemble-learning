{
 "cells": [
  {
   "cell_type": "code",
   "execution_count": 11,
   "metadata": {
    "collapsed": false
   },
   "outputs": [],
   "source": [
    "%matplotlib inline\n",
    "import numpy as np\n",
    "import matplotlib.pyplot as plt\n",
    "import sklearn.tree as tree\n",
    "from sklearn.metrics import confusion_matrix, accuracy_score\n",
    "from sklearn.cross_validation import train_test_split\n",
    "from scipy.stats import mode\n",
    "\n"
   ]
  },
  {
   "cell_type": "code",
   "execution_count": null,
   "metadata": {
    "collapsed": true
   },
   "outputs": [],
   "source": [
    "#Select input dataset input_dataset = 1 for wine, input_dataset = 2 for MNIST\n",
    "input_dataset = 2;\n",
    "\n",
    "# --- Set the number of iterations(and steps) to execute the algorithm for --- #\n",
    "iteration = 500\n",
    "step = 50\n",
    "\n",
    "# ---- Set the starting number of trees, and number of trees to increment at each iteration ---- #\n",
    "B=0\n",
    "stepb = 50\n",
    "\n"
   ]
  },
  {
   "cell_type": "code",
   "execution_count": 302,
   "metadata": {
    "collapsed": false
   },
   "outputs": [
    {
     "name": "stdout",
     "output_type": "stream",
     "text": [
      "done\n"
     ]
    }
   ],
   "source": [
    "\n",
    "## import inputs wine, mnist dataset\n",
    "fwine = open('wine.data', 'r')\n",
    "wineraw = np.loadtxt(\"wine.data\", comments=\"#\", delimiter=\",\", unpack=False) #178x14\n",
    "wineclass = wineraw[:,1]\n",
    "winedata = wineraw[:,1:len(wineraw[2,:])]\n",
    "\n",
    "## import MNIST Dataset\n",
    "if (input_dataset == 2):\n",
    "    ftrain = open('train.csv', 'r')\n",
    "    ftest = open('test.csv','r')\n",
    "    mnist_trainraw = np.loadtxt(\"train.csv\", comments=\"#\", delimiter=\",\", unpack=False) #785xsamp\n",
    "    mnist_testraw = np.loadtxt(\"test.csv\", comments=\"#\", delimiter=\",\", unpack=False) #785xsamp\n",
    "    mnist_raw = np.append(mnist_trainraw,mnist_testraw,axis = 1)\n",
    "    mnist_raw = np.roll(np.transpose(mnist_raw),1,axis=1)\n",
    "print('done')"
   ]
  },
  {
   "cell_type": "code",
   "execution_count": 303,
   "metadata": {
    "collapsed": false,
    "scrolled": true
   },
   "outputs": [
    {
     "name": "stdout",
     "output_type": "stream",
     "text": [
      "done\n"
     ]
    }
   ],
   "source": [
    "if (input_dataset == 1):\n",
    "    train, test = train_test_split(wineraw, train_size = 0.75)\n",
    "elif (input_dataset == 2):\n",
    "    train = np.roll(np.transpose(mnist_trainraw),1,axis=1)\n",
    "    test = np.roll(np.transpose(mnist_testraw),1,axis=1)\n",
    "    train[:,0] = train[:,0]\n",
    "    test[:,0] = test[:,0]\n",
    "    #train, test = train_test_split(winedata, train_size = 0.75)\n",
    "print('done')"
   ]
  },
  {
   "cell_type": "code",
   "execution_count": 312,
   "metadata": {
    "collapsed": false,
    "scrolled": false
   },
   "outputs": [],
   "source": [
    "### ------------- Training data ---------------###\n",
    "oob_error = np.zeros(iteration)\n",
    "train_error = np.zeros(iteration)\n",
    "test_error = np.zeros(iteration)\n",
    "\n",
    "oob_error_depth5 = np.zeros(iteration)\n",
    "train_error_depth5 = np.zeros(iteration)\n",
    "test_error_depth5 = np.zeros(iteration)"
   ]
  },
  {
   "cell_type": "code",
   "execution_count": 313,
   "metadata": {
    "collapsed": false,
    "scrolled": false
   },
   "outputs": [
    {
     "name": "stdout",
     "output_type": "stream",
     "text": [
      "0\n",
      "50\n",
      "[[ 0.  0.  0.  0.  0.  0.  0.  0.  0.  0.  0.  0.  0.  0.  0.  0.  0.  0.\n",
      "   0.  0.  0.  0.  0.  0.  0.  0.  0.  0.  0.  0.  0.  0.  0.  0.  0.  0.\n",
      "   0.  0.  0.  0.  0.  0.  0.  0.  0.  0.  0.  0.  0.  0.  0.  0.  0.  0.\n",
      "   0.  0.  0.  0.  0.  0.  0.  0.  0.  0.  0.  0.  0.  0.  0.  0.  0.  0.\n",
      "   0.  0.  0.  0.  0.  0.  0.  0.  0.  0.  0.  0.  0.  0.  0.  0.  0.  0.\n",
      "   0.  0.  0.  0.  0.  0.  0.  0.  0.  0.]\n",
      " [ 0.  0.  0.  0.  0.  0.  0.  0.  0.  0.  0.  0.  0.  0.  0.  0.  0.  0.\n",
      "   0.  0.  0.  0.  0.  0.  0.  0.  0.  0.  0.  0.  0.  0.  0.  0.  0.  0.\n",
      "   0.  0.  0.  0.  0.  0.  0.  0.  0.  0.  0.  0.  0.  0.  0.  0.  0.  0.\n",
      "   0.  0.  0.  0.  0.  0.  0.  0.  0.  0.  0.  0.  0.  0.  0.  0.  0.  0.\n",
      "   0.  0.  0.  0.  3.  0.  0.  0.  0.  0.  0.  0.  0.  0.  0.  0.  0.  0.\n",
      "   0.  0.  0.  0.  0.  0.  0.  0.  0.  0.]\n",
      " [ 0.  3.  0.  0.  0.  0.  0.  0.  0.  0.  0.  0.  0.  0.  0.  0.  0.  0.\n",
      "   0.  0.  0.  0.  0.  0.  0.  0.  0.  0.  0.  0.  0.  0.  0.  0.  0.  0.\n",
      "   0.  0.  0.  0.  0.  0.  0.  0.  0.  0.  0.  0.  3.  0.  0.  0.  0.  3.\n",
      "   0.  0.  0.  0.  0.  0.  0.  0.  0.  0.  0.  0.  0.  0.  0.  0.  0.  0.\n",
      "   0.  0.  0.  3.  0.  0.  0.  0.  0.  0.  0.  0.  0.  0.  0.  0.  0.  0.\n",
      "   0.  0.  0.  0.  0.  0.  0.  0.  0.  0.]\n",
      " [ 0.  0.  0.  0.  0.  0.  0.  0.  0.  0.  0.  0.  0.  0.  0.  0.  0.  0.\n",
      "   0.  0.  0.  0.  0.  0.  0.  0.  0.  0.  0.  0.  0.  0.  0.  0.  0.  0.\n",
      "   0.  0.  0.  0.  0.  0.  0.  0.  0.  0.  0.  0.  0.  0.  0.  0.  0.  0.\n",
      "   0.  0.  0.  0.  0.  0.  0.  0.  0.  0.  0.  0.  0.  0.  0.  0.  0.  0.\n",
      "   0.  0.  0.  0.  0.  0.  0.  0.  0.  0.  0.  0.  0.  0.  0.  0.  0.  0.\n",
      "   0.  0.  0.  0.  0.  0.  0.  0.  0.  0.]\n",
      " [ 0.  0.  0.  0.  0.  0.  0.  0.  0.  0.  0.  0.  0.  0.  0.  0.  0.  0.\n",
      "   0.  0.  0.  0.  0.  0.  0.  0.  0.  0.  0.  0.  0.  0.  0.  0.  0.  0.\n",
      "   0.  0.  0.  0.  0.  0.  0.  0.  0.  0.  0.  0.  0.  0.  0.  0.  0.  0.\n",
      "   0.  0.  0.  0.  0.  0.  0.  0.  0.  0.  0.  0.  0.  0.  0.  0.  0.  0.\n",
      "   0.  0.  0.  0.  0.  0.  0.  0.  0.  0.  0.  0.  0.  0.  0.  0.  0.  0.\n",
      "   0.  0.  0.  0.  0.  0.  0.  0.  0.  0.]\n",
      " [ 0.  0.  0.  0.  0.  0.  0.  0.  0.  0.  0.  0.  0.  0.  0.  0.  0.  0.\n",
      "   0.  0.  0.  0.  0.  0.  0.  0.  0.  0.  0.  0.  0.  0.  0.  0.  0.  0.\n",
      "   0.  0.  0.  0.  0.  0.  0.  0.  0.  0.  0.  0.  0.  0.  0.  0.  0.  0.\n",
      "   0.  0.  0.  0.  0.  0.  0.  0.  0.  0.  0.  0.  0.  0.  0.  0.  0.  0.\n",
      "   0.  0.  0.  0.  0.  0.  0.  0.  0.  0.  0.  0.  0.  0.  0.  0.  0.  0.\n",
      "   0.  0.  0.  0.  0.  0.  0.  0.  0.  0.]\n",
      " [ 0.  0.  0.  0.  0.  0.  0.  0.  0.  0.  0.  0.  0.  0.  0.  0.  0.  0.\n",
      "   0.  3.  0.  0.  0.  0.  0.  0.  0.  0.  0.  0.  0.  0.  0.  0.  0.  0.\n",
      "   0.  0.  0.  0.  0.  0.  0.  0.  0.  0.  0.  0.  0.  0.  0.  0.  0.  0.\n",
      "   0.  0.  0.  0.  0.  0.  0.  0.  0.  0.  0.  0.  0.  0.  0.  3.  0.  0.\n",
      "   0.  0.  0.  0.  0.  0.  0.  0.  0.  0.  0.  0.  3.  0.  0.  0.  0.  0.\n",
      "   0.  0.  0.  0.  0.  0.  0.  0.  0.  0.]\n",
      " [ 0.  0.  1.  0.  0.  0.  0.  0.  0.  0.  0.  0.  0.  0.  0.  0.  0.  0.\n",
      "   3.  5.  0.  0.  0.  0.  0.  0.  0.  0.  0.  0.  0.  0.  3.  0.  0.  0.\n",
      "   0.  0.  0.  0.  0.  0.  0.  0.  0.  0.  0.  0.  0.  0.  0.  0.  0.  0.\n",
      "   0.  0.  0.  0.  0.  0.  0.  0.  5.  0.  0.  0.  0.  0.  3.  0.  0.  0.\n",
      "   0.  0.  0.  0.  5.  0.  0.  0.  0.  0.  0.  1.  0.  0.  3.  0.  0.  0.\n",
      "   0.  0.  0.  0.  0.  0.  0.  0.  0.  0.]\n",
      " [ 0.  0.  0.  0.  0.  0.  0.  0.  0.  0.  0.  3.  0.  0.  0.  0.  0.  0.\n",
      "   0.  0.  0.  0.  0.  0.  0.  0.  0.  0.  0.  0.  0.  0.  0.  0.  0.  0.\n",
      "   0.  0.  0.  0.  0.  0.  0.  0.  0.  0.  0.  0.  0.  0.  0.  0.  0.  0.\n",
      "   0.  0.  0.  0.  0.  0.  0.  0.  0.  0.  0.  0.  0.  0.  0.  0.  0.  0.\n",
      "   0.  0.  0.  0.  0.  0.  0.  0.  0.  5.  0.  0.  0.  0.  0.  0.  3.  0.\n",
      "   0.  0.  0.  0.  0.  0.  0.  0.  0.  0.]\n",
      " [ 0.  0.  0.  0.  0.  0.  0.  0.  0.  0.  0.  0.  0.  0.  0.  0.  0.  0.\n",
      "   0.  0.  0.  0.  0.  0.  0.  0.  0.  0.  0.  0.  0.  0.  0.  0.  0.  0.\n",
      "   0.  0.  0.  0.  0.  0.  0.  0.  0.  0.  0.  0.  0.  0.  0.  0.  0.  0.\n",
      "   0.  0.  0.  0.  0.  0.  0.  0.  0.  0.  0.  0.  0.  0.  0.  0.  0.  0.\n",
      "   0.  0.  0.  0.  0.  0.  0.  3.  0.  0.  0.  0.  0.  0.  0.  3.  0.  0.\n",
      "   0.  0.  0.  0.  0.  0.  0.  0.  0.  5.]]\n",
      "100\n",
      "150\n",
      "200\n",
      "250\n",
      "300\n",
      "350\n",
      "400\n",
      "450\n",
      "done\n"
     ]
    }
   ],
   "source": [
    "\n",
    "for i in range(0,iteration,step):\n",
    "    print(i)\n",
    "    B = B+stepb\n",
    "    if (i != 0):\n",
    "        temp = np.zeros([test.shape[0],stepb])\n",
    "        temp2 = np.zeros([test.shape[0]])\n",
    "        test_predicted_matrix = np.hstack((test_predicted_matrix,temp))\n",
    "        test_predicted_matrix_depth5 = np.hstack((test_predicted_matrix_depth5,temp))\n",
    "        test_class_assigned = temp2\n",
    "        test_class_assigned_depth5 = temp2\n",
    "        \n",
    "        temp = np.zeros([train.shape[0],stepb])  \n",
    "        temp2 = np.zeros([train.shape[0]])\n",
    "        bootstrap_predicted_matrix = np.hstack((bootstrap_predicted_matrix,temp))\n",
    "        bootstrap_predicted_matrix_depth5 = np.hstack((bootstrap_predicted_matrix_depth5,temp))\n",
    "        oob_predicted_matrix = np.hstack((oob_predicted_matrix,temp))\n",
    "        oob_predicted_matrix_depth5 = np.hstack((oob_predicted_matrix_depth5,temp))\n",
    "\n",
    "        bootstrap_index_mat = np.hstack((bootstrap_index_mat,temp))\n",
    "        \n",
    "        train_class_assigned = temp2\n",
    "        train_class_assigned_depth5 = temp2\n",
    "        oob_class_assigned = temp2\n",
    "        oob_class_assigned_depth5 = temp2   \n",
    "\n",
    "    elif (i == 0):\n",
    "        test_predicted_matrix = np.zeros([test.shape[0],B])\n",
    "        bootstrap_predicted_matrix = np.zeros([train.shape[0],B])\n",
    "        oob_predicted_matrix = np.zeros([train.shape[0],B])\n",
    "\n",
    "        test_predicted_matrix_depth5 = np.zeros([test.shape[0],B])\n",
    "        bootstrap_predicted_matrix_depth5 = np.zeros([train.shape[0],B])\n",
    "        oob_predicted_matrix_depth5 = np.zeros([train.shape[0],B])\n",
    "\n",
    "        bootstrap_index_mat = np.zeros([train.shape[0],B])\n",
    "\n",
    "        train_class_assigned = np.zeros([train.shape[0]])\n",
    "        oob_class_assigned = np.zeros([train.shape[0]])\n",
    "        test_class_assigned = np.zeros([test.shape[0]])\n",
    "\n",
    "        train_class_assigned_depth5 = np.zeros([train.shape[0]])\n",
    "        oob_class_assigned_depth5 = np.zeros([train.shape[0]])\n",
    "        test_class_assigned_depth5 = np.zeros([test.shape[0]])    \n",
    "\n",
    "    if (i == 0):\n",
    "        stepbb = B\n",
    "    else:\n",
    "         stepbb = stepb    \n",
    "    for bb in range(stepbb):\n",
    "        if (i != 0):\n",
    "            b = B-stepb+bb\n",
    "        elif (i == 0):\n",
    "            b = bb;\n",
    "        #Full Tree\n",
    "        index_bootstrap = np.random.choice(train.shape[0],size = train.shape[0], replace = True)\n",
    "        bootstrap_index_mat[:,b] = index_bootstrap\n",
    "        bootstrap_sample = train[index_bootstrap,:]\n",
    "        #out of bag samples\n",
    "        index_oob = list(set(range(train.shape[0])) - set(index_bootstrap))\n",
    "        sample_oob = train[index_oob,:]\n",
    "        #Fitting Decision tree\n",
    "        tree_classifier = tree.DecisionTreeClassifier(max_features= \"sqrt\")\n",
    "        tree_classifier = tree_classifier.fit(bootstrap_sample[:,1:],bootstrap_sample[:,0])\n",
    "        #Predicting out of bag samples classes\n",
    "        oob_predicted_matrix[index_oob,b] = tree_classifier.predict(sample_oob[:,1:])\n",
    "        test_predicted_matrix[:,b] = tree_classifier.predict(test[:,1:])\n",
    "        bootstrap_predicted_matrix[:,b] = tree_classifier.predict(train[:,1:])\n",
    "\n",
    "        #Tree of Depth = 5\n",
    "        #Fitting Decision tree\n",
    "        tree_classifier_depth5 = tree.DecisionTreeClassifier(max_features= \"sqrt\",max_depth = 5)\n",
    "        tree_classifier_depth5 = tree_classifier_depth5.fit(bootstrap_sample[:,1:],bootstrap_sample[:,0])\n",
    "        #Predicting out of bag samples classes\n",
    "        oob_predicted_matrix_depth5[index_oob,b] = tree_classifier_depth5.predict(sample_oob[:,1:])\n",
    "        test_predicted_matrix_depth5[:,b] = tree_classifier_depth5.predict(test[:,1:])\n",
    "        bootstrap_predicted_matrix_depth5[:,b] = tree_classifier_depth5.predict(train[:,1:])\n",
    "\n",
    "    for j in range(train.shape[0]):\n",
    "        #train_class_assigned[j] = mode(bootstrap_predicted_matrix[np.where(bootstrap_index_mat[:,b]==j)])[0]\n",
    "        #train_class_assigned_depth5[j] = mode(bootstrap_predicted_matrix_depth5[np.where(bootstrap_index_mat[:,b]==j)])[0]\n",
    "        \n",
    "        a=([np.where(oob_predicted_matrix[j,:]>0)])  \n",
    "        if ((np.shape(a))[2] != 0):\n",
    "             oob_class_assigned[j] = mode((oob_predicted_matrix[j,a])[0,0])[0]\n",
    "        a=([np.where(oob_predicted_matrix_depth5[j,:]>0)])\n",
    "        if ((np.shape(a))[2] != 0):\n",
    "            oob_class_assigned_depth5[j] = mode((oob_predicted_matrix_depth5[j,a])[0,0])[0]\n",
    "        #oob_class_assigned_depth5 = mode(oob_predicted_matrix_depth5,axis = 1)[0]\n",
    "\n",
    "    train_class_assigned = mode(bootstrap_predicted_matrix[:,0:b+1],axis = 1)[0]\n",
    "    train_class_assigned_depth5 = mode(bootstrap_predicted_matrix_depth5[:,0:b+1],axis = 1)[0]\n",
    "    \n",
    "    test_class_assigned = mode(test_predicted_matrix[:,0:b+1],axis = 1)[0]\n",
    "    test_class_assigned_depth5 = mode(test_predicted_matrix_depth5[:,0:b+1],axis = 1)[0]\n",
    "    \n",
    "    oob_error[i] = accuracy_score(train[:,0], oob_class_assigned)\n",
    "    train_error[i] = accuracy_score(train[:,0], train_class_assigned)\n",
    "    test_error[i] = accuracy_score(test[:,0], test_class_assigned)\n",
    "\n",
    "    oob_error_depth5[i] = accuracy_score(train[:,0], oob_class_assigned_depth5)\n",
    "    train_error_depth5[i] = accuracy_score(train[:,0], train_class_assigned_depth5)\n",
    "    test_error_depth5[i] = accuracy_score(test[:,0], test_class_assigned_depth5)\n",
    "    \n",
    "\n",
    "print('done')\n"
   ]
  },
  {
   "cell_type": "code",
   "execution_count": null,
   "metadata": {
    "collapsed": false
   },
   "outputs": [],
   "source": []
  },
  {
   "cell_type": "code",
   "execution_count": 314,
   "metadata": {
    "collapsed": false,
    "scrolled": false
   },
   "outputs": [
    {
     "name": "stdout",
     "output_type": "stream",
     "text": [
      "Train Set\n",
      "\n",
      "Confusion Matrix using Full tree\n",
      "[[5923    0    0    0]\n",
      " [   0 6742    0    0]\n",
      " [   0    0 6131    0]\n",
      " [   0    0    0 5421]]\n",
      "Final Accuracy Score =  1.0\n",
      "\n",
      "Confusion Matrix using Depth 5 Decision Tree \n",
      "[[5770    2   81   70]\n",
      " [   2 6593   75   72]\n",
      " [  28  118 5750  235]\n",
      " [  61   78  234 5048]]\n",
      "Final Accuracy Score =  0.956559441714\n",
      "--------------------\n",
      "\n",
      "Test Set\n",
      "\n",
      "Confusion Matrix using Full tree\n",
      "[[ 976    0    0    4]\n",
      " [   0 1127    6    2]\n",
      " [   0    0 1002    8]\n",
      " [   4    2   10  876]]\n",
      "Final Accuracy Score =  0.991784914115\n",
      "\n",
      "Test Set Confusion Matrix using Depth 5 Decision Tree \n",
      "[[ 964    0    5   11]\n",
      " [   0 1119   11    5]\n",
      " [   8    5  967   30]\n",
      " [  11   13   51  817]]\n",
      "Final Accuracy Score =  0.962658700523\n",
      "--------------------\n",
      "\n",
      "OOB Set\n",
      "\n",
      "Confusion Matrix using Full tree\n",
      "[[ 740   71 1375 3737]\n",
      " [   0 6593   77   72]\n",
      " [   0  123 5734  274]\n",
      " [   0   83  292 5046]]\n",
      "Final Accuracy Score =  0.900317958459\n",
      "\n",
      "Confusion Matrix using Depth 5 Decision Tree \n",
      "[[ 740   71 1375 3737]\n",
      " [   0 6593   77   72]\n",
      " [   0  123 5734  274]\n",
      " [   0   83  292 5046]]\n",
      "Final Accuracy Score =  0.804765247553\n"
     ]
    }
   ],
   "source": [
    "print('Train Set\\n')\n",
    "print('Confusion Matrix using Full tree')\n",
    "print(confusion_matrix(train[:,0],train_class_assigned))\n",
    "print('Final Accuracy Score = ',max(train_error))\n",
    "print('\\nConfusion Matrix using Depth 5 Decision Tree ')\n",
    "print(confusion_matrix(train[:,0],train_class_assigned_depth5))\n",
    "print('Final Accuracy Score = ',max(train_error_depth5))\n",
    "\n",
    "print('--------------------')\n",
    "print('\\nTest Set\\n')\n",
    "print('Confusion Matrix using Full tree')\n",
    "print(confusion_matrix(test[:,0],test_class_assigned))\n",
    "print('Final Accuracy Score = ',max(test_error))\n",
    "print('\\nTest Set Confusion Matrix using Depth 5 Decision Tree ')\n",
    "print(confusion_matrix(test[:,0],test_class_assigned_depth5))\n",
    "print('Final Accuracy Score = ',max(test_error_depth5))\n",
    "\n",
    "print('--------------------')\n",
    "print('\\nOOB Set\\n')\n",
    "print('Confusion Matrix using Full tree')\n",
    "print(confusion_matrix(train[:,0],oob_class_assigned))\n",
    "print('Final Accuracy Score = ',max(oob_error))\n",
    "print('\\nConfusion Matrix using Depth 5 Decision Tree ')\n",
    "print(confusion_matrix(train[:,0],oob_class_assigned_depth5))\n",
    "print('Final Accuracy Score = ',max(oob_error_depth5))"
   ]
  },
  {
   "cell_type": "code",
   "execution_count": null,
   "metadata": {
    "collapsed": false
   },
   "outputs": [],
   "source": []
  },
  {
   "cell_type": "code",
   "execution_count": 315,
   "metadata": {
    "collapsed": false,
    "scrolled": false
   },
   "outputs": [
    {
     "data": {
      "image/png": "[encoded data removed]",
      "text/plain": [
       "<matplotlib.figure.Figure at 0x9f84b38>"
      ]
     },
     "metadata": {},
     "output_type": "display_data"
    },
    {
     "name": "stdout",
     "output_type": "stream",
     "text": [
      "done\n"
     ]
    }
   ],
   "source": [
    "#Figure 1\n",
    "ax = np.arange(0,iteration,step)\n",
    "ax = np.concatenate([[0],ax])\n",
    "\n",
    "f1, arr = plt.subplots(figsize=(10, 10), nrows=3, ncols=2,sharex = True)\n",
    "#f1, arr = plt.subplots(3, figsize=(10, 10),sharex = True)\n",
    "oob_error = oob_error[oob_error>0]\n",
    "arr[0,0].plot(ax, (1-np.concatenate([[0],oob_error]))*100)\n",
    "arr[0,0].set_title('OOB Error, full tree')\n",
    "\n",
    "train_error = train_error[train_error>0]\n",
    "arr[1,0].plot(ax,(1-np.concatenate([[0],train_error]))*100)\n",
    "arr[1,0].set_title('Train Error, full tree')\n",
    "\n",
    "test_error = test_error[test_error>0]\n",
    "arr[2,0].plot(ax,(1-np.concatenate([[0],test_error]))*100)\n",
    "arr[2,0].set_title('Test Error, full tree')\n",
    "\n",
    "oob_error_depth5 = oob_error_depth5[oob_error_depth5>0]\n",
    "arr[0,1].plot(ax,(1-np.concatenate([[0],oob_error_depth5]))*100)\n",
    "arr[0,1].set_title('OOB Error, Depth 5')\n",
    "\n",
    "train_error_depth5 = train_error_depth5[train_error_depth5>0]\n",
    "arr[1,1].plot(ax,(1-np.concatenate([[0],train_error_depth5]))*100)\n",
    "arr[1,1].set_title('Train Error, Depth 5')\n",
    "\n",
    "test_error_depth5 = test_error_depth5[test_error_depth5>0]\n",
    "arr[2,1].plot(ax,(1-np.concatenate([[0],test_error_depth5]))*100)\n",
    "arr[2,1].set_title('Test Error, Depth 5')\n",
    "\n",
    "for i in range(3):\n",
    "    for j in range(2):\n",
    "        arr[i,j].set_xlabel('number of trees')\n",
    "        arr[i,j].set_ylabel('Percentage Error')\n",
    "        arr[i,j].set_xlim(-10,iteration)\n",
    "        arr[i,j].set_ylim(-3,100)\n",
    "\n",
    "plt.tight_layout()\n",
    "plt.show()\n",
    "print('done')\n"
   ]
  },
  {
   "cell_type": "code",
   "execution_count": null,
   "metadata": {
    "collapsed": false
   },
   "outputs": [],
   "source": []
  }
 ],
 "metadata": {
  "kernelspec": {
   "display_name": "Python 3",
   "language": "python",
   "name": "python3"
  },
  "language_info": {
   "codemirror_mode": {
    "name": "ipython",
    "version": 3
   },
   "file_extension": ".py",
   "mimetype": "text/x-python",
   "name": "python",
   "nbconvert_exporter": "python",
   "pygments_lexer": "ipython3",
   "version": "3.5.1"
  }
 },
 "nbformat": 4,
 "nbformat_minor": 0
}
